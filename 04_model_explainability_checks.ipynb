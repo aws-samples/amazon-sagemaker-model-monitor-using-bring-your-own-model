{
 "cells": [
  {
   "cell_type": "code",
   "execution_count": null,
   "metadata": {},
   "outputs": [],
   "source": [
    "import boto3\n",
    "import sagemaker\n",
    "import json\n",
    "import os\n",
    "from utils import get_aws_profile_name, get_aws_iam_role\n",
    "from datetime import datetime\n",
    "\n",
    "LOCAL_EXECUTION = True\n",
    "\n",
    "if LOCAL_EXECUTION:\n",
    "    sess = boto3.Session(profile_name=get_aws_profile_name())\n",
    "    sm = sess.client(\"sagemaker\")\n",
    "    iam = sess.client('iam')\n",
    "    role = iam.get_role(RoleName=get_aws_iam_role())['Role']['Arn']\n",
    "else:\n",
    "    sess = boto3.Session()\n",
    "    sm = sess.client(\"sagemaker\")\n",
    "    role = sagemaker.get_execution_role()\n",
    "\n",
    "sagemaker_session = sagemaker.Session(boto_session=sess)\n",
    "bucket = sagemaker_session.default_bucket()\n",
    "prefix = \"model-monitor-bring-your-own-model/\"\n",
    "region = sess.region_name\n",
    "\n",
    "output_uri = \"s3://{}/{}{}\".format(bucket, prefix, \"results-model-explain-\"+datetime.now().strftime(\"%Y-%m-%d-%H-%M-%S\"))"
   ]
  },
  {
   "cell_type": "code",
   "execution_count": null,
   "metadata": {},
   "outputs": [],
   "source": [
    "from sagemaker.processing import (\n",
    "    ProcessingInput,\n",
    "    ProcessingOutput,\n",
    "    Processor,\n",
    ")\n",
    "from sagemaker.model_monitor.dataset_format import DatasetFormat\n",
    "from utils import get_baseline_uri, get_dataset_uri\n",
    "\n",
    "\n",
    "model_explainability_container_uri = sagemaker.image_uris.retrieve(\n",
    "            framework=\"clarify\",\n",
    "            region=region,\n",
    "            version=\"latest\",\n",
    "        )\n",
    "\n",
    "        # Create the baseline job using\n",
    "dataset_format = DatasetFormat.csv()\n",
    "\n",
    "env = {\n",
    "    \"baseline_constraints\": \"/opt/ml/processing/baseline/constraints/analysis.json\",\n",
    "}"
   ]
  },
  {
   "cell_type": "code",
   "execution_count": null,
   "metadata": {},
   "outputs": [],
   "source": [
    "from sagemaker.processing import (\n",
    "    ProcessingInput,\n",
    "    ProcessingOutput,\n",
    "    Processor,\n",
    ")\n",
    "\n",
    "model_explainability_monitor_analyzer = Processor(\n",
    "    image_uri=model_explainability_container_uri,\n",
    "    role=role,\n",
    "    instance_count=1,\n",
    "    instance_type='ml.m5.xlarge',\n",
    "    base_job_name=f\"model-explainability-byom\",\n",
    "    sagemaker_session=sagemaker_session,\n",
    "    max_runtime_in_seconds=1800,\n",
    "    env=env,\n",
    ")\n",
    "\n",
    "model_explainability_monitor_analyzer.run(\n",
    "    inputs=[ProcessingInput(\n",
    "                source=get_baseline_uri('model-explainability-analysis'),\n",
    "                destination=\"/opt/ml/processing/baseline/constraints\",\n",
    "                input_name=\"analysis_file\"),\n",
    "            ProcessingInput(\n",
    "                source=get_baseline_uri('model-explainability-analysis_config'),\n",
    "                destination=\"/opt/ml/processing/input/config\",\n",
    "                input_name=\"analysis_config\"),\n",
    "            ProcessingInput(\n",
    "                source=get_dataset_uri('model-explainability-modified-data'),\n",
    "                destination=\"/opt/ml/processing/input/data\",\n",
    "                input_name=\"dataset\",),\n",
    "            ],\n",
    "    outputs=[\n",
    "        ProcessingOutput(\n",
    "                    source=\"/opt/ml/processing/output\",\n",
    "                    output_name=\"analysis_result\",\n",
    "                    destination=output_uri,\n",
    "                )\n",
    "    ],\n",
    ")"
   ]
  },
  {
   "cell_type": "code",
   "execution_count": null,
   "metadata": {},
   "outputs": [],
   "source": [
    "from utils import save_baseline\n",
    "violations_uri = model_explainability_monitor_analyzer.latest_job.outputs[0].destination + '/constraint_violations.json'\n",
    "save_baseline('model-explainability-violoations', violations_uri)"
   ]
  },
  {
   "cell_type": "code",
   "execution_count": null,
   "metadata": {},
   "outputs": [],
   "source": [
    "try:\n",
    "    json.loads(sagemaker.s3.S3Downloader().read_file(violations_uri, sagemaker_session=sagemaker_session))\n",
    "except Exception as e:\n",
    "    if (e.response['Error']['Code'] == \"NoSuchKey\"):\n",
    "        print(\"No violations file found. Maybe No violations were detected\")\n",
    "    else:\n",
    "        raise e\n",
    "    "
   ]
  },
  {
   "cell_type": "code",
   "execution_count": null,
   "metadata": {},
   "outputs": [],
   "source": []
  }
 ],
 "metadata": {
  "interpreter": {
   "hash": "66d769f68ed4c84a07e23de83cd77438094586f02a1789a3dfa9b143f2e1d947"
  },
  "kernelspec": {
   "display_name": "Python 3.8.0 ('mm-byom')",
   "language": "python",
   "name": "python3"
  },
  "language_info": {
   "codemirror_mode": {
    "name": "ipython",
    "version": 3
   },
   "file_extension": ".py",
   "mimetype": "text/x-python",
   "name": "python",
   "nbconvert_exporter": "python",
   "pygments_lexer": "ipython3",
   "version": "3.8.5"
  },
  "orig_nbformat": 4
 },
 "nbformat": 4,
 "nbformat_minor": 2
}
