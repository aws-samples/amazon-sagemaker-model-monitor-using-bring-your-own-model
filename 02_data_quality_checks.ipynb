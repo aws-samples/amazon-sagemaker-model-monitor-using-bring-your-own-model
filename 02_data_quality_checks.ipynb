{
 "cells": [
  {
   "cell_type": "code",
   "execution_count": null,
   "metadata": {},
   "outputs": [],
   "source": [
    "import boto3\n",
    "import sagemaker\n",
    "import json\n",
    "import os\n",
    "from utils import get_aws_profile_name, get_aws_iam_role\n",
    "from datetime import datetime\n",
    "\n",
    "LOCAL_EXECUTION = True\n",
    "\n",
    "if LOCAL_EXECUTION:\n",
    "    sess = boto3.Session(profile_name=get_aws_profile_name())\n",
    "    sm = sess.client(\"sagemaker\")\n",
    "    iam = sess.client('iam')\n",
    "    role = iam.get_role(RoleName=get_aws_iam_role())['Role']['Arn']\n",
    "else:\n",
    "    sess = boto3.Session()\n",
    "    sm = sess.client(\"sagemaker\")\n",
    "    role = sagemaker.get_execution_role()\n",
    "\n",
    "sagemaker_session = sagemaker.Session(boto_session=sess)\n",
    "bucket = sagemaker_session.default_bucket()\n",
    "prefix = \"model-monitor-bring-your-own-model/\"\n",
    "region = sess.region_name\n",
    "\n",
    "output_uri = \"s3://{}/{}{}\".format(bucket, prefix, \"results-data-quality-\"+datetime.now().strftime(\"%Y-%m-%d-%H-%M-%S\"))"
   ]
  },
  {
   "cell_type": "code",
   "execution_count": null,
   "metadata": {},
   "outputs": [],
   "source": [
    "from sagemaker.processing import (\n",
    "    ProcessingInput,\n",
    "    ProcessingOutput,\n",
    "    Processor,\n",
    ")\n",
    "from sagemaker.model_monitor.dataset_format import DatasetFormat\n",
    "from utils import get_baseline_uri, get_dataset_uri\n",
    "\n",
    "model_monitor_container_uri = sagemaker.image_uris.retrieve(\n",
    "            framework=\"model-monitor\",\n",
    "            region=region,\n",
    "            version=\"latest\",\n",
    "        )\n",
    "\n",
    "dataset_format = DatasetFormat.csv()\n",
    "env = {\n",
    "    \"dataset_format\": json.dumps(dataset_format),\n",
    "    \"dataset_source\": \"/opt/ml/processing/input/baseline_dataset_input\",\n",
    "    \"output_path\": \"/opt/ml/processing/output\",\n",
    "    \"publish_cloudwatch_metrics\": \"Disabled\",\n",
    "    \"baseline_constraints\": \"/opt/ml/processing/baseline/constraints/constraints.json\",\n",
    "    \"baseline_statistics\": \"/opt/ml/processing/baseline/stats/statistics.json\",\n",
    "}\n",
    "\n",
    "monitor_analyzer = Processor(\n",
    "    image_uri=model_monitor_container_uri,\n",
    "    role=role,\n",
    "    instance_count=1,\n",
    "    instance_type='ml.m5.xlarge',\n",
    "    base_job_name=f\"model-monitor-byom\",\n",
    "    sagemaker_session=sagemaker_session,\n",
    "    max_runtime_in_seconds=1800,\n",
    "    env=env,\n",
    ")\n",
    "\n",
    "monitor_analyzer.run(\n",
    "    inputs=[ProcessingInput(\n",
    "                source=get_dataset_uri('data-quality-modified-data'),\n",
    "                destination=\"/opt/ml/processing/input/baseline_dataset_input\",\n",
    "                input_name=\"baseline_dataset_input\",),\n",
    "            ProcessingInput(\n",
    "                source=get_baseline_uri('data-quality-constraints'),\n",
    "                destination=\"/opt/ml/processing/baseline/constraints\",\n",
    "                input_name=\"constraints\",\n",
    "                ),\n",
    "            ProcessingInput(\n",
    "                source=get_baseline_uri('data-quality-statistics'),\n",
    "                destination=\"/opt/ml/processing/baseline/stats\",\n",
    "                input_name=\"baseline\",\n",
    "                ),\n",
    "            ],\n",
    "    outputs=[\n",
    "        ProcessingOutput(\n",
    "                    source=\"/opt/ml/processing/output\",\n",
    "                    output_name=\"monitoring_output\",\n",
    "                    destination=output_uri,\n",
    "                )\n",
    "    ],\n",
    ")"
   ]
  },
  {
   "cell_type": "code",
   "execution_count": null,
   "metadata": {},
   "outputs": [],
   "source": [
    "from utils import save_baseline\n",
    "violations_uri = monitor_analyzer.latest_job.outputs[0].destination + '/constraint_violations.json'\n",
    "save_baseline('data-quality-violoations', violations_uri)"
   ]
  },
  {
   "cell_type": "code",
   "execution_count": null,
   "metadata": {},
   "outputs": [],
   "source": [
    "try:\n",
    "    print(json.loads(sagemaker.s3.S3Downloader().read_file(violations_uri, sagemaker_session=sagemaker_session)))\n",
    "except ClientError as ex:\n",
    "        if ex.response['Error']['Code'] == 'NoSuchKey':\n",
    "            print(\"No violation file found\")"
   ]
  },
  {
   "cell_type": "code",
   "execution_count": null,
   "metadata": {},
   "outputs": [],
   "source": [
    "# TODO: Add visualisation of violation\n",
    "\n",
    "\n"
   ]
  },
  {
   "cell_type": "code",
   "execution_count": null,
   "metadata": {},
   "outputs": [],
   "source": []
  }
 ],
 "metadata": {
  "interpreter": {
   "hash": "4852bb1f7cd44f51326f23dc402ead6dde438dc19e87d2e1ec37a0afdae1dc27"
  },
  "kernelspec": {
   "display_name": "Python 3.8.5 ('general')",
   "language": "python",
   "name": "python3"
  },
  "language_info": {
   "codemirror_mode": {
    "name": "ipython",
    "version": 3
   },
   "file_extension": ".py",
   "mimetype": "text/x-python",
   "name": "python",
   "nbconvert_exporter": "python",
   "pygments_lexer": "ipython3",
   "version": "3.8.5"
  },
  "orig_nbformat": 4
 },
 "nbformat": 4,
 "nbformat_minor": 2
}
